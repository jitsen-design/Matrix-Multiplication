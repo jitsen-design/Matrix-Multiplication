{
 "cells": [
  {
   "cell_type": "code",
   "execution_count": 6,
   "metadata": {
    "collapsed": true
   },
   "outputs": [],
   "source": [
    "import numpy as np\n"
   ]
  },
  {
   "cell_type": "code",
   "execution_count": 19,
   "metadata": {
    "collapsed": true
   },
   "outputs": [],
   "source": [
    "#This exercise is drawn directly from a tutorial in the link given below. \n",
    "\n",
    "#http://courses.ncssm.edu/math/TCMConf/TCM2004/TCMTalks/MatrixApps.pdf\n",
    "\n",
    "#The problem is explained thus:\n",
    "\n",
    "#\"In the 60's the American car market was dominated by US made car. The Japanese auto makers, Toyota, Nissan, and \n",
    "#Honda were just beginning to make inroads to the American market while the European makers and other countries \n",
    "#had a small steady share. Still, most people who owned American, replaced their car with another US made car, \n",
    "#while the majority of Japanese car owners replaced their car with another Japanese make. The matrix to the left \n",
    "#below represents a possible survey of 500 car owners and their preferences. For example, of 300 US car owners, \n",
    "#240 or 80% planned to replace their car with another US made car, while 45 owners (or 15%) planned to switch to \n",
    "#a Japanese car.\n",
    "\n",
    "#US   Jap Eur Other Total US Jap Eur Other Total\n",
    "#US   240  45  12  3 300 0.8 0.15 0.04 0.01 1.00\n",
    "#Jap   20  65  10  5 100 0.2 0.65 0.1  0.05 1.00\n",
    "#Eur    8   8  60  4  80 0.1 0.1  0.75 0.05 1.00\n",
    "#Other  4   4   2 10  20 0.2 0.2  0.1  0.5  1.00\n",
    "\n",
    "#Suppose that the proportion of cars sold in the US in the mid 60's followed the proportions in the survey. An \n",
    "#initial matrix for these proportions would be:\n",
    "\n",
    "#        US  Jap Eur Other\n",
    "#Prop [ .60 .20 .16 .04 ]\n",
    "\n",
    "#Suppose a transition can be said to occur every 5 years. Over the course of 20 years (4 transitions), what will \n",
    "#happen to the proportion of cars if we use the transition matrix that we computed above?\"\n",
    "\n",
    "#_ _ _ _ _ _ _ _ _ _ _ _ _ _ _ _ _ _ _ _ _ _ _ _ _ _ _ __ _ _ _ _ _ _ _ _ _ _ _ _ _ _ _ _ _ _ _ _ _ _ _ _ _ _ _ _\n",
    "\n",
    "#First, I tranpose the probability matrix for ease of multiplication\n",
    "\n",
    "A = np.array([[0.80,0.20,0.10,0.20],\n",
    "              [0.15,0.65,0.10,0.20],\n",
    "              [0.04,0.10,0.75,0.10],\n",
    "              [0.01,0.05,0.05,0.50]])\n",
    "\n",
    "#I then create a vector of initial probabilities for the likelihood of purchasing a car in the mid '60s\n",
    "\n",
    "x = [.6,\n",
    "     .2,\n",
    "     .16,\n",
    "     .04,]\n",
    "\n",
    "#I will also need an output vector for the second round of probabilities. I create an output vector of zeros\n",
    "\n",
    "y = [0,\n",
    "     0,\n",
    "     0,\n",
    "     0]\n"
   ]
  },
  {
   "cell_type": "code",
   "execution_count": 20,
   "metadata": {},
   "outputs": [
    {
     "name": "stdout",
     "output_type": "stream",
     "text": [
      "Probability of Purchasing a US made vehicle: 0.544\n",
      "Probability of Purchasing a Japanese vehicle: 0.244\n",
      "Probability of Purchasing a European vehicle: 0.168\n",
      "Probability of Purchasing a vehicle made in another region: 0.044\n",
      "Sum of Probabilities: 1.0\n"
     ]
    }
   ],
   "source": [
    "#The second time someone decides to buy a vehicle, the probabilities are calculated using a basic Matrix-vector \n",
    "#multiplication. I have written out the code to illustrate how the matrix-vector operations are carried out.\n",
    "\n",
    "def matrix_mult(A, x, y):\n",
    "    (m_A,n_A) = np.shape(A)\n",
    "    for i in range(0,m_A):\n",
    "        for j in range(0,n_A):\n",
    "            y[i] = A[i,j]*x[j] + y[i]\n",
    "    return(y)\n",
    "\n",
    "matrix_mult(A, x, y)\n",
    "\n",
    "#The output vector carries the following probabilities of purchasing a car by region the second time round:\n",
    "\n",
    "print(\"Probability of Purchasing a US made vehicle:\",y[0])\n",
    "print(\"Probability of Purchasing a Japanese vehicle:\",y[1])\n",
    "print(\"Probability of Purchasing a European vehicle:\",y[2])\n",
    "print(\"Probability of Purchasing a vehicle made in another region:\",y[3])\n",
    "\n",
    "#I would also like to check if the calculation is correct, by ensuring that the output probabilities sum to 1.\n",
    "\n",
    "print(\"Sum of Probabilities:\",sum(y))  "
   ]
  },
  {
   "cell_type": "code",
   "execution_count": 21,
   "metadata": {},
   "outputs": [
    {
     "name": "stdout",
     "output_type": "stream",
     "text": [
      "Probability of Purchasing a US made vehicle: 0.465622564\n",
      "Probability of Purchasing a Japanese vehicle: 0.283949409\n",
      "Probability of Purchasing a European vehicle: 0.195316758\n",
      "Probability of Purchasing a vehicle made in another region: 0.055111269\n",
      "Sum of Probabilities: 1.0\n"
     ]
    }
   ],
   "source": [
    "#However, we will have to put in values for y manually, each time we want to compute the next round of purchases. \n",
    "#therefore, we can use the existing functions in NumPy to compute the probability distribution after the fourth \n",
    "#round of purchases.\n",
    "\n",
    "x1 = np.dot(A,x) \n",
    "\n",
    "for i in range(0,4):\n",
    "    x1 = np.dot(A,x1)\n",
    "\n",
    "print(\"Probability of Purchasing a US made vehicle:\",x1[0])\n",
    "print(\"Probability of Purchasing a Japanese vehicle:\",x1[1])\n",
    "print(\"Probability of Purchasing a European vehicle:\",x1[2])\n",
    "print(\"Probability of Purchasing a vehicle made in another region:\",x1[3])\n",
    "\n",
    "\n",
    "#Once again, I check to see if the calculation is correct, by ensuring that the output probabilities sum to 1.\n",
    "\n",
    "print(\"Sum of Probabilities:\",sum(x1))  "
   ]
  },
  {
   "cell_type": "code",
   "execution_count": null,
   "metadata": {
    "collapsed": true
   },
   "outputs": [],
   "source": []
  }
 ],
 "metadata": {
  "kernelspec": {
   "display_name": "Python 3",
   "language": "python",
   "name": "python3"
  },
  "language_info": {
   "codemirror_mode": {
    "name": "ipython",
    "version": 3
   },
   "file_extension": ".py",
   "mimetype": "text/x-python",
   "name": "python",
   "nbconvert_exporter": "python",
   "pygments_lexer": "ipython3",
   "version": "3.6.1"
  }
 },
 "nbformat": 4,
 "nbformat_minor": 2
}
