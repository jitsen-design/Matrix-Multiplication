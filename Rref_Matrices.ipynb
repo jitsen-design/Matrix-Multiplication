{
 "cells": [
  {
   "cell_type": "code",
   "execution_count": 1,
   "metadata": {
    "collapsed": true
   },
   "outputs": [],
   "source": [
    "import numpy as np\n",
    "import sympy\n",
    "from sympy import *\n"
   ]
  },
  {
   "cell_type": "code",
   "execution_count": 7,
   "metadata": {
    "collapsed": true
   },
   "outputs": [],
   "source": [
    "#The problem for this exercise is given in the link below:\n",
    "\n",
    "#http://www.mathstat.dal.ca/~handrew/teaching/math2030/assignments/a5.pdf\n",
    "\n",
    "#This problem askes us to determine the values for the flow(current) of water f1-f5. I would treat this like an \n",
    "#electrical circuit and come up with equations to turn this into a matrix operation.\n",
    "\n",
    "#f1+f2 = 100\n",
    "#f4+f5 = 150\n",
    "#f2+f3-f4 = 150\n",
    "#-f1+f3+f5 = 200\n",
    "\n",
    "# I then plug the equation's coefficients into the matrix below. The columns represent f1-f5.\n",
    "\n",
    "B = sympy.Matrix([[1,1,0,0,0,100],\n",
    "                  [0,0,0,1,1,150],\n",
    "                  [0,1,1,-1,0,150],\n",
    "                  [-1,0,1,0,1,200]\n",
    "                  ])"
   ]
  },
  {
   "cell_type": "code",
   "execution_count": 8,
   "metadata": {},
   "outputs": [
    {
     "data": {
      "text/plain": [
       "(Matrix([\n",
       " [1, 0, -1, 0, -1, -200],\n",
       " [0, 1,  1, 0,  1,  300],\n",
       " [0, 0,  0, 1,  1,  150],\n",
       " [0, 0,  0, 0,  0,    0]]), [0, 1, 3])"
      ]
     },
     "execution_count": 8,
     "metadata": {},
     "output_type": "execute_result"
    }
   ],
   "source": [
    "#sympy has a function to turn the matrix into reduced row echelon form\n",
    "B.rref()\n",
    "\n"
   ]
  },
  {
   "cell_type": "code",
   "execution_count": null,
   "metadata": {
    "collapsed": true
   },
   "outputs": [],
   "source": [
    "#This matrix has infinitely many solutions, and the vector form of the solutions can be represented as such:\n",
    "\n",
    "#f1 = s + t − 200\n",
    "#f2 = −s − t + 300\n",
    "#f3 = s\n",
    "#f4 = −t + 150\n",
    "#f5 = t"
   ]
  }
 ],
 "metadata": {
  "kernelspec": {
   "display_name": "Python 3",
   "language": "python",
   "name": "python3"
  },
  "language_info": {
   "codemirror_mode": {
    "name": "ipython",
    "version": 3
   },
   "file_extension": ".py",
   "mimetype": "text/x-python",
   "name": "python",
   "nbconvert_exporter": "python",
   "pygments_lexer": "ipython3",
   "version": "3.6.1"
  }
 },
 "nbformat": 4,
 "nbformat_minor": 2
}
